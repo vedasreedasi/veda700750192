{
  "nbformat": 4,
  "nbformat_minor": 0,
  "metadata": {
    "colab": {
      "provenance": [],
      "authorship_tag": "ABX9TyNYn1u1WWMZHiRNqR2wVcBd",
      "include_colab_link": true
    },
    "kernelspec": {
      "name": "python3",
      "display_name": "Python 3"
    },
    "language_info": {
      "name": "python"
    }
  },
  "cells": [
    {
      "cell_type": "markdown",
      "metadata": {
        "id": "view-in-github",
        "colab_type": "text"
      },
      "source": [
        "<a href=\"https://colab.research.google.com/github/vedasreedasi/veda700750192/blob/main/700750192_ICP2.ipynb\" target=\"_parent\"><img src=\"https://colab.research.google.com/assets/colab-badge.svg\" alt=\"Open In Colab\"/></a>"
      ]
    },
    {
      "cell_type": "code",
      "execution_count": null,
      "metadata": {
        "id": "JdT1p6TBU7AT"
      },
      "outputs": [],
      "source": []
    },
    {
      "cell_type": "markdown",
      "source": [
        "Vedasree Dasi\n",
        "700750192"
      ],
      "metadata": {
        "id": "97CEG0fDXuCY"
      }
    },
    {
      "cell_type": "markdown",
      "source": [],
      "metadata": {
        "id": "6NvhHZhKXpvX"
      }
    },
    {
      "cell_type": "markdown",
      "source": [
        "1.Create a class Employee and then do the following:\n",
        "\n",
        "• Create a data member to count the number of Employees\n",
        "\n",
        "• Create a constructor to initialize name, family, salary, department\n",
        "\n",
        "• Create a function to average salary\n",
        "\n",
        "• Create a Fulltime Employee class and it should inherit the properties of Employee class\n",
        "\n",
        "• Create the instances of Fulltime Employee class and Employee class and call their member functions."
      ],
      "metadata": {
        "id": "qKX9o3NaVJx6"
      }
    },
    {
      "cell_type": "code",
      "source": [
        "class Employee:\n",
        "    employee_count = 0  # Data member to count the number of Employees\n",
        "\n",
        "    def __init__(self, name, family, salary, department):\n",
        "        self.name = name\n",
        "        self.family = family\n",
        "        self.salary = salary\n",
        "        self.department = department\n",
        "        Employee.employee_count += 1\n",
        "\n",
        "    def average_salary(self, total_salary):\n",
        "        return total_salary / Employee.employee_count\n",
        "\n",
        "class FulltimeEmployee(Employee):\n",
        "    # Inheriting properties from the Employee class\n",
        "    pass\n",
        "\n",
        "# Creating instances of Employee class\n",
        "employee1 = Employee(\"Sai Ram\", \"Uppalapati\", 100000, \"Manager\")\n",
        "employee2 = Employee(\"Venkat\", \"Uppalapati\", 90000, \"IT\")\n",
        "\n",
        "# Creating instances of FulltimeEmployee class\n",
        "fulltime_employee1 = FulltimeEmployee(\"Madhavi\", \"Uppalapati\", 75000, \"Finance\")\n",
        "fulltime_employee2 = FulltimeEmployee(\"Nandhu\", \"Nandini\", 60000, \"Marketing\")\n",
        "\n",
        "# Calling member functions\n",
        "total_salary_employees = employee1.salary + employee2.salary\n",
        "average_salary_employees = employee1.average_salary(total_salary_employees)\n",
        "\n",
        "total_salary_fulltime_employees = fulltime_employee1.salary + fulltime_employee2.salary\n",
        "average_salary_fulltime_employees = fulltime_employee1.average_salary(total_salary_fulltime_employees)\n",
        "\n",
        "# Displaying results\n",
        "print(\"Average Salary for Employees:\", average_salary_employees)\n",
        "print(\"Average Salary for Fulltime Employees:\", average_salary_fulltime_employees)\n"
      ],
      "metadata": {
        "colab": {
          "base_uri": "https://localhost:8080/"
        },
        "id": "3AVoDSSkVV3w",
        "outputId": "53a9c472-6919-4f78-8ecf-9f2bbb8470da"
      },
      "execution_count": 1,
      "outputs": [
        {
          "output_type": "stream",
          "name": "stdout",
          "text": [
            "Average Salary for Employees: 47500.0\n",
            "Average Salary for Fulltime Employees: 33750.0\n"
          ]
        }
      ]
    },
    {
      "cell_type": "markdown",
      "source": [
        "2.Numpy\n",
        "\n",
        "Using NumPy create random vector of size 20 having only float in the range 1-20.\n",
        "\n",
        "Then reshape the array to 4 by 5\n",
        "\n",
        "Then replace the max in each row by 0 (axis=1)"
      ],
      "metadata": {
        "id": "IA2SgeREViBX"
      }
    },
    {
      "cell_type": "code",
      "source": [
        "# Import the NumPy library and alias it as 'np' for brevity and convention.\n",
        "import numpy as np\n",
        "\n",
        "# Create a random vector of size 20 with floats in the range 1-20\n",
        "random_vector = np.random.uniform(1, 20, 20)\n",
        "\n",
        "print(\"Original Random Vector:\\n\", random_vector)"
      ],
      "metadata": {
        "colab": {
          "base_uri": "https://localhost:8080/"
        },
        "id": "uWl7BDs6Vkh-",
        "outputId": "c9c80a45-d4c1-4168-8e77-b89d6d41291c"
      },
      "execution_count": 3,
      "outputs": [
        {
          "output_type": "stream",
          "name": "stdout",
          "text": [
            "Original Random Vector:\n",
            " [15.50591638 16.88033999  7.1725857  12.84373112  5.07127572  6.44276621\n",
            " 13.09780956 11.53139217  2.03278514 14.1403063   8.96398196  9.65939438\n",
            "  2.53133964 17.61930175  7.78811115 13.85454766  4.22122882  2.10933116\n",
            "  6.96431274  8.16512082]\n"
          ]
        }
      ]
    },
    {
      "cell_type": "code",
      "source": [
        "# Reshape the array to 4 by 5 (4 rows and 5 columns)\n",
        "reshaped_array = random_vector.reshape(4, 5)\n",
        "\n",
        "print(reshaped_array)"
      ],
      "metadata": {
        "colab": {
          "base_uri": "https://localhost:8080/"
        },
        "id": "7Ip4O9_fW8Zb",
        "outputId": "68644427-0b5b-4a34-83a8-c831da861e7a"
      },
      "execution_count": 4,
      "outputs": [
        {
          "output_type": "stream",
          "name": "stdout",
          "text": [
            "[[15.50591638 16.88033999  7.1725857  12.84373112  5.07127572]\n",
            " [ 6.44276621 13.09780956 11.53139217  2.03278514 14.1403063 ]\n",
            " [ 8.96398196  9.65939438  2.53133964 17.61930175  7.78811115]\n",
            " [13.85454766  4.22122882  2.10933116  6.96431274  8.16512082]]\n"
          ]
        }
      ]
    },
    {
      "cell_type": "code",
      "source": [
        "\n",
        "# Replace the max in each row by 0 (axis=1)\n",
        "reshaped_array[np.arange(4), reshaped_array.argmax(axis=1)] = 0\n",
        "\n",
        "print(\"Reshaped Array:\\n\", reshaped_array)"
      ],
      "metadata": {
        "colab": {
          "base_uri": "https://localhost:8080/"
        },
        "id": "2OztsfToXU1I",
        "outputId": "9151684c-9325-443c-9287-514d4778079d"
      },
      "execution_count": 5,
      "outputs": [
        {
          "output_type": "stream",
          "name": "stdout",
          "text": [
            "Reshaped Array:\n",
            " [[15.50591638  0.          7.1725857  12.84373112  5.07127572]\n",
            " [ 6.44276621 13.09780956 11.53139217  2.03278514  0.        ]\n",
            " [ 8.96398196  9.65939438  2.53133964  0.          7.78811115]\n",
            " [ 0.          4.22122882  2.10933116  6.96431274  8.16512082]]\n"
          ]
        }
      ]
    }
  ]
}